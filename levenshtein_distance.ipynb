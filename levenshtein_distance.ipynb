{
 "cells": [
  {
   "cell_type": "code",
   "execution_count": 149,
   "metadata": {},
   "outputs": [],
   "source": [
    "import pandas as pd\n",
    "import numpy as np\n",
    "\n",
    "#from rapidfuzz import fuzz, process"
   ]
  },
  {
   "cell_type": "markdown",
   "metadata": {},
   "source": [
    "## Import Data"
   ]
  },
  {
   "cell_type": "markdown",
   "metadata": {},
   "source": [
    "Shopee data: April 2021\n",
    "\n",
    "Lazada data:\n",
    "- 10 kg > May 2020 - May 2021\n",
    "- 5-10 kg > May 2020 - May 2021\n",
    "- 0-5 kg > April 2021"
   ]
  },
  {
   "cell_type": "code",
   "execution_count": 150,
   "metadata": {},
   "outputs": [],
   "source": [
    "spe = pd.read_csv(\"data\\spe_items_2021-04-01_2021-04-30_plus_quant.csv\")"
   ]
  },
  {
   "cell_type": "code",
   "execution_count": 151,
   "metadata": {},
   "outputs": [],
   "source": [
    "spe.item_description = spe.item_description.str.lower()\n",
    "spe = spe[spe.item_description.notnull()]\n",
    "spe = spe.reset_index(drop=True)"
   ]
  },
  {
   "cell_type": "code",
   "execution_count": 152,
   "metadata": {},
   "outputs": [],
   "source": [
    "laz_10kg = pd.read_csv(\"data\\laz_items_2020-05-13_2021-05-13_10kg.csv\")\n",
    "laz_10kg.item_description = laz_10kg.item_description.str.lower()"
   ]
  },
  {
   "cell_type": "code",
   "execution_count": 153,
   "metadata": {},
   "outputs": [],
   "source": [
    "laz_5kg = pd.read_csv(\"data\\laz_items_2020-05-13_2021-05-13_5-10kg.csv\")\n",
    "laz_5kg.item_description = laz_5kg.item_description.str.lower()\n",
    "#laz_5kg = laz_5kg.sample(n=4000, random_state=1)"
   ]
  },
  {
   "cell_type": "code",
   "execution_count": 154,
   "metadata": {},
   "outputs": [],
   "source": [
    "laz_0kg_april = pd.read_csv(\"data\\laz_items_2021-04-01_2021-04-30_0-5kg.csv\")\n",
    "laz_0kg_april.item_description = laz_0kg_april.item_description.str.lower()\n",
    "#laz_0kg_april = laz_0kg_april.sample(n=10000, random_state=1)"
   ]
  },
  {
   "cell_type": "markdown",
   "metadata": {},
   "source": [
    "Merge lazada data and take only 10000 samples (too big library will take a very long time to run)\n",
    "\n",
    "But in the future we should really find ways to expand the library, because bigger library = much better accuracy"
   ]
  },
  {
   "cell_type": "code",
   "execution_count": 155,
   "metadata": {},
   "outputs": [],
   "source": [
    "laz = pd.concat([laz_10kg, laz_5kg, laz_0kg_april])\n",
    "laz = laz[laz.item_description.notnull()]\n",
    "laz = laz.sample(n=10000, random_state=1)\n",
    "laz = laz.reset_index(drop=True)"
   ]
  },
  {
   "cell_type": "code",
   "execution_count": 156,
   "metadata": {},
   "outputs": [],
   "source": [
    "laz_items = laz.item_description.to_list()\n",
    "laz_price = laz.item_price.to_list()\n",
    "laz_weight = laz.final_weight.to_list()"
   ]
  },
  {
   "cell_type": "code",
   "execution_count": 350,
   "metadata": {},
   "outputs": [
    {
     "data": {
      "text/html": [
       "<div>\n",
       "<style scoped>\n",
       "    .dataframe tbody tr th:only-of-type {\n",
       "        vertical-align: middle;\n",
       "    }\n",
       "\n",
       "    .dataframe tbody tr th {\n",
       "        vertical-align: top;\n",
       "    }\n",
       "\n",
       "    .dataframe thead th {\n",
       "        text-align: right;\n",
       "    }\n",
       "</style>\n",
       "<table border=\"1\" class=\"dataframe\">\n",
       "  <thead>\n",
       "    <tr style=\"text-align: right;\">\n",
       "      <th></th>\n",
       "      <th>legacy_id</th>\n",
       "      <th>item_description</th>\n",
       "      <th>weight</th>\n",
       "      <th>price</th>\n",
       "      <th>quantity</th>\n",
       "    </tr>\n",
       "  </thead>\n",
       "  <tbody>\n",
       "    <tr>\n",
       "      <th>0</th>\n",
       "      <td>303589</td>\n",
       "      <td>áo tập gym yoga nữ siêu xinh ami</td>\n",
       "      <td>0.15</td>\n",
       "      <td>190000</td>\n",
       "      <td>24</td>\n",
       "    </tr>\n",
       "    <tr>\n",
       "      <th>1</th>\n",
       "      <td>436058</td>\n",
       "      <td>máy hút mụnmáy hút mụn đầu đenmàn hình led, má...</td>\n",
       "      <td>0.20</td>\n",
       "      <td>125000</td>\n",
       "      <td>73</td>\n",
       "    </tr>\n",
       "    <tr>\n",
       "      <th>2</th>\n",
       "      <td>437888</td>\n",
       "      <td>set 10 son nhung lì wetn</td>\n",
       "      <td>0.35</td>\n",
       "      <td>218000</td>\n",
       "      <td>1</td>\n",
       "    </tr>\n",
       "    <tr>\n",
       "      <th>3</th>\n",
       "      <td>358286</td>\n",
       "      <td>quần kaki wellkids bé trai, quần short phối mầ...</td>\n",
       "      <td>0.12</td>\n",
       "      <td>184000</td>\n",
       "      <td>5</td>\n",
       "    </tr>\n",
       "    <tr>\n",
       "      <th>4</th>\n",
       "      <td>330220</td>\n",
       "      <td>gương mini cầm tay họa tiết hoạt hình dễ thươn...</td>\n",
       "      <td>0.21</td>\n",
       "      <td>113000</td>\n",
       "      <td>16</td>\n",
       "    </tr>\n",
       "  </tbody>\n",
       "</table>\n",
       "</div>"
      ],
      "text/plain": [
       "   legacy_id                                   item_description  weight  \\\n",
       "0     303589                 áo tập gym yoga nữ siêu xinh ami    0.15   \n",
       "1     436058  máy hút mụnmáy hút mụn đầu đenmàn hình led, má...    0.20   \n",
       "2     437888                           set 10 son nhung lì wetn    0.35   \n",
       "3     358286  quần kaki wellkids bé trai, quần short phối mầ...    0.12   \n",
       "4     330220  gương mini cầm tay họa tiết hoạt hình dễ thươn...    0.21   \n",
       "\n",
       "    price  quantity  \n",
       "0  190000        24  \n",
       "1  125000        73  \n",
       "2  218000         1  \n",
       "3  184000         5  \n",
       "4  113000        16  "
      ]
     },
     "execution_count": 350,
     "metadata": {},
     "output_type": "execute_result"
    }
   ],
   "source": [
    "spe.head()"
   ]
  },
  {
   "cell_type": "code",
   "execution_count": 354,
   "metadata": {},
   "outputs": [
    {
     "data": {
      "text/html": [
       "<div>\n",
       "<style scoped>\n",
       "    .dataframe tbody tr th:only-of-type {\n",
       "        vertical-align: middle;\n",
       "    }\n",
       "\n",
       "    .dataframe tbody tr th {\n",
       "        vertical-align: top;\n",
       "    }\n",
       "\n",
       "    .dataframe thead th {\n",
       "        text-align: right;\n",
       "    }\n",
       "</style>\n",
       "<table border=\"1\" class=\"dataframe\">\n",
       "  <thead>\n",
       "    <tr style=\"text-align: right;\">\n",
       "      <th></th>\n",
       "      <th>item_description</th>\n",
       "      <th>item_price</th>\n",
       "      <th>final_weight</th>\n",
       "    </tr>\n",
       "  </thead>\n",
       "  <tbody>\n",
       "    <tr>\n",
       "      <th>0</th>\n",
       "      <td>khuếch tán tinh dầu purevess 9ml giúp khử mùi,...</td>\n",
       "      <td>52000.0</td>\n",
       "      <td>0.100000</td>\n",
       "    </tr>\n",
       "    <tr>\n",
       "      <th>1</th>\n",
       "      <td>cốc gấu đựng bàn chải kem đánh răng, cốc gấu d...</td>\n",
       "      <td>14610.0</td>\n",
       "      <td>0.200000</td>\n",
       "    </tr>\n",
       "    <tr>\n",
       "      <th>2</th>\n",
       "      <td>túi đeo chéo vải canvas,túi đeo chéo nữ,túi vả...</td>\n",
       "      <td>49000.0</td>\n",
       "      <td>0.300000</td>\n",
       "    </tr>\n",
       "    <tr>\n",
       "      <th>3</th>\n",
       "      <td>(có tem qr_icheck) thảo mộc khử mùi ngân bình ...</td>\n",
       "      <td>29000.0</td>\n",
       "      <td>0.200000</td>\n",
       "    </tr>\n",
       "    <tr>\n",
       "      <th>4</th>\n",
       "      <td>5 cái công tắc rocker 3 chân spdt bật/tắt/bật...</td>\n",
       "      <td>24000.0</td>\n",
       "      <td>0.166667</td>\n",
       "    </tr>\n",
       "  </tbody>\n",
       "</table>\n",
       "</div>"
      ],
      "text/plain": [
       "                                    item_description  item_price  final_weight\n",
       "0  khuếch tán tinh dầu purevess 9ml giúp khử mùi,...     52000.0      0.100000\n",
       "1  cốc gấu đựng bàn chải kem đánh răng, cốc gấu d...     14610.0      0.200000\n",
       "2  túi đeo chéo vải canvas,túi đeo chéo nữ,túi vả...     49000.0      0.300000\n",
       "3  (có tem qr_icheck) thảo mộc khử mùi ngân bình ...     29000.0      0.200000\n",
       "4   5 cái công tắc rocker 3 chân spdt bật/tắt/bật...     24000.0      0.166667"
      ]
     },
     "execution_count": 354,
     "metadata": {},
     "output_type": "execute_result"
    }
   ],
   "source": [
    "laz.head()"
   ]
  },
  {
   "cell_type": "markdown",
   "metadata": {},
   "source": [
    "## Levenshtein Model"
   ]
  },
  {
   "cell_type": "markdown",
   "metadata": {},
   "source": [
    "The below Levenshtein algo will find 5 best matched laz items for each spe item, plus matching score and the position of the laz item in the laz library"
   ]
  },
  {
   "cell_type": "code",
   "execution_count": 161,
   "metadata": {},
   "outputs": [],
   "source": [
    "def fuzzy(laz_items, spe_items):\n",
    "    matched_array = []\n",
    "    ratio_array = []\n",
    "    index_array = []\n",
    "    \n",
    "    for spe_item in spe_items:\n",
    "        if spe_item in laz_items:\n",
    "            matched_array.append([spe_item])\n",
    "            ratio_array.append([100])\n",
    "            index_array.append([999999])\n",
    "        else:\n",
    "            matches = process.extract(spe_item, laz_items, scorer=fuzz.token_sort_ratio, limit=5)\n",
    "            \n",
    "            matched = [x[0] for x in matches]\n",
    "            ratio = [x[1] for x in matches]\n",
    "            index = [x[2] for x in matches]\n",
    "            \n",
    "            matched_array.append(matched)\n",
    "            ratio_array.append(ratio)\n",
    "            index_array.append(index)\n",
    "            \n",
    "    return matched_array, ratio_array, index_array"
   ]
  },
  {
   "cell_type": "markdown",
   "metadata": {},
   "source": [
    "Running the algo"
   ]
  },
  {
   "cell_type": "code",
   "execution_count": 158,
   "metadata": {},
   "outputs": [],
   "source": [
    "#spe_items = spe.item_description.to_list()"
   ]
  },
  {
   "cell_type": "code",
   "execution_count": 162,
   "metadata": {
    "scrolled": true
   },
   "outputs": [],
   "source": [
    "#results = fuzzy(laz_items, spe_items)"
   ]
  },
  {
   "cell_type": "code",
   "execution_count": 165,
   "metadata": {},
   "outputs": [
    {
     "data": {
      "text/plain": [
       "530446"
      ]
     },
     "execution_count": 165,
     "metadata": {},
     "output_type": "execute_result"
    }
   ],
   "source": [
    "#len(results[0])"
   ]
  },
  {
   "cell_type": "markdown",
   "metadata": {},
   "source": [
    "Saving the results"
   ]
  },
  {
   "cell_type": "code",
   "execution_count": 166,
   "metadata": {},
   "outputs": [],
   "source": [
    "import pickle\n",
    "# with open('levenshtein_results.pkl', 'wb') as f:\n",
    "#     pickle.dump(results, f)"
   ]
  },
  {
   "cell_type": "markdown",
   "metadata": {},
   "source": [
    "## Merging results to original data"
   ]
  },
  {
   "cell_type": "code",
   "execution_count": null,
   "metadata": {},
   "outputs": [],
   "source": [
    "#Run this to load the saved results\n",
    "file = open('levenshtein_results.pkl', 'rb')\n",
    "\n",
    "results = pickle.load(file)"
   ]
  },
  {
   "cell_type": "code",
   "execution_count": 209,
   "metadata": {},
   "outputs": [],
   "source": [
    "# The results will have 3 information: the matched laz item, score and match index\n",
    "df = pd.DataFrame(zip(results[0], results[1], results[2]), columns=['match', 'score', 'match_index'])"
   ]
  },
  {
   "cell_type": "code",
   "execution_count": 210,
   "metadata": {},
   "outputs": [],
   "source": [
    "# Data transformation\n",
    "match = df['match'].apply(pd.Series).stack().reset_index()\n",
    "score = df['score'].apply(pd.Series).stack().reset_index()\n",
    "match_index = df['match_index'].apply(pd.Series).stack().reset_index()"
   ]
  },
  {
   "cell_type": "code",
   "execution_count": 219,
   "metadata": {},
   "outputs": [],
   "source": [
    "# Merge the results columns together\n",
    "res = match.merge(score, on=['level_0', 'level_1']).merge(match_index, on=['level_0', 'level_1'])"
   ]
  },
  {
   "cell_type": "code",
   "execution_count": 222,
   "metadata": {},
   "outputs": [],
   "source": [
    "res.columns = ['item_index', 'match_no', 'match', 'score', 'match_index']"
   ]
  },
  {
   "cell_type": "code",
   "execution_count": 298,
   "metadata": {},
   "outputs": [],
   "source": [
    "# Merge results with lazada data and shopee data\n",
    "res_merged = res.merge(laz, left_on='match_index', right_index=True).sort_values(['item_index', 'match_no'])\n",
    "res_merged = res_merged.drop(['item_description'], axis=1).rename(columns={'item_price':'match_price', 'final_weight':'match_weight'})\n",
    "\n",
    "res_merged = res_merged.merge(spe, left_on='item_index', right_index=True).sort_values(['item_index', 'match_no'])"
   ]
  },
  {
   "cell_type": "code",
   "execution_count": 299,
   "metadata": {
    "scrolled": true
   },
   "outputs": [],
   "source": [
    "res_final = res_merged[['legacy_id', 'item_description', 'item_index', 'weight', 'price', 'quantity', \n",
    "                       'match', 'match_no', 'score', 'match_price', 'match_weight']]"
   ]
  },
  {
   "cell_type": "code",
   "execution_count": 300,
   "metadata": {},
   "outputs": [
    {
     "name": "stderr",
     "output_type": "stream",
     "text": [
      "<ipython-input-300-834937784b45>:1: SettingWithCopyWarning: \n",
      "A value is trying to be set on a copy of a slice from a DataFrame.\n",
      "Try using .loc[row_indexer,col_indexer] = value instead\n",
      "\n",
      "See the caveats in the documentation: https://pandas.pydata.org/pandas-docs/stable/user_guide/indexing.html#returning-a-view-versus-a-copy\n",
      "  res_final['weight_diff'] = res_final.match_weight - res_final.weight\n"
     ]
    }
   ],
   "source": [
    "# Calculate weight and price difference\n",
    "res_final['weight_diff'] = res_final.match_weight - res_final.weight\n",
    "res_final['price_diff'] = res_final.match_price - res_final.price"
   ]
  },
  {
   "cell_type": "code",
   "execution_count": 359,
   "metadata": {
    "scrolled": true
   },
   "outputs": [
    {
     "data": {
      "text/html": [
       "<div>\n",
       "<style scoped>\n",
       "    .dataframe tbody tr th:only-of-type {\n",
       "        vertical-align: middle;\n",
       "    }\n",
       "\n",
       "    .dataframe tbody tr th {\n",
       "        vertical-align: top;\n",
       "    }\n",
       "\n",
       "    .dataframe thead th {\n",
       "        text-align: right;\n",
       "    }\n",
       "</style>\n",
       "<table border=\"1\" class=\"dataframe\">\n",
       "  <thead>\n",
       "    <tr style=\"text-align: right;\">\n",
       "      <th></th>\n",
       "      <th>legacy_id</th>\n",
       "      <th>item_description</th>\n",
       "      <th>item_index</th>\n",
       "      <th>weight</th>\n",
       "      <th>price</th>\n",
       "      <th>quantity</th>\n",
       "      <th>match</th>\n",
       "      <th>match_no</th>\n",
       "      <th>score</th>\n",
       "      <th>match_price</th>\n",
       "      <th>match_weight</th>\n",
       "      <th>weight_diff</th>\n",
       "      <th>price_diff</th>\n",
       "    </tr>\n",
       "  </thead>\n",
       "  <tbody>\n",
       "    <tr>\n",
       "      <th>0</th>\n",
       "      <td>303589</td>\n",
       "      <td>áo tập gym yoga nữ siêu xinh ami</td>\n",
       "      <td>0</td>\n",
       "      <td>0.15</td>\n",
       "      <td>190000</td>\n",
       "      <td>24</td>\n",
       "      <td>áo cổ v siêu xinh</td>\n",
       "      <td>0</td>\n",
       "      <td>56.000000</td>\n",
       "      <td>175000.0</td>\n",
       "      <td>0.316667</td>\n",
       "      <td>0.166667</td>\n",
       "      <td>-15000.0</td>\n",
       "    </tr>\n",
       "    <tr>\n",
       "      <th>1</th>\n",
       "      <td>303589</td>\n",
       "      <td>áo tập gym yoga nữ siêu xinh ami</td>\n",
       "      <td>0</td>\n",
       "      <td>0.15</td>\n",
       "      <td>190000</td>\n",
       "      <td>24</td>\n",
       "      <td>lẻ 1 áo tập gym/ yoga siêu đẹp, áo bra thun tă...</td>\n",
       "      <td>1</td>\n",
       "      <td>55.913978</td>\n",
       "      <td>28000.0</td>\n",
       "      <td>0.230000</td>\n",
       "      <td>0.080000</td>\n",
       "      <td>-162000.0</td>\n",
       "    </tr>\n",
       "    <tr>\n",
       "      <th>2</th>\n",
       "      <td>303589</td>\n",
       "      <td>áo tập gym yoga nữ siêu xinh ami</td>\n",
       "      <td>0</td>\n",
       "      <td>0.15</td>\n",
       "      <td>190000</td>\n",
       "      <td>24</td>\n",
       "      <td>áo sơ mi trơn tay ngắn túi nắp</td>\n",
       "      <td>2</td>\n",
       "      <td>53.968254</td>\n",
       "      <td>61550.0</td>\n",
       "      <td>0.300000</td>\n",
       "      <td>0.150000</td>\n",
       "      <td>-128450.0</td>\n",
       "    </tr>\n",
       "    <tr>\n",
       "      <th>3</th>\n",
       "      <td>303589</td>\n",
       "      <td>áo tập gym yoga nữ siêu xinh ami</td>\n",
       "      <td>0</td>\n",
       "      <td>0.15</td>\n",
       "      <td>190000</td>\n",
       "      <td>24</td>\n",
       "      <td>áo sơ mi nữ tay ngắn lụa tằm qccc  cực xinh xắn</td>\n",
       "      <td>3</td>\n",
       "      <td>53.164557</td>\n",
       "      <td>84400.0</td>\n",
       "      <td>0.300000</td>\n",
       "      <td>0.150000</td>\n",
       "      <td>-105600.0</td>\n",
       "    </tr>\n",
       "    <tr>\n",
       "      <th>4</th>\n",
       "      <td>303589</td>\n",
       "      <td>áo tập gym yoga nữ siêu xinh ami</td>\n",
       "      <td>0</td>\n",
       "      <td>0.15</td>\n",
       "      <td>190000</td>\n",
       "      <td>24</td>\n",
       "      <td>áo sơ mi nam kaki phối túi hộp siêu hot</td>\n",
       "      <td>4</td>\n",
       "      <td>52.777778</td>\n",
       "      <td>133000.0</td>\n",
       "      <td>0.300000</td>\n",
       "      <td>0.150000</td>\n",
       "      <td>-57000.0</td>\n",
       "    </tr>\n",
       "  </tbody>\n",
       "</table>\n",
       "</div>"
      ],
      "text/plain": [
       "   legacy_id                    item_description  item_index  weight   price  \\\n",
       "0     303589  áo tập gym yoga nữ siêu xinh ami           0    0.15  190000   \n",
       "1     303589  áo tập gym yoga nữ siêu xinh ami           0    0.15  190000   \n",
       "2     303589  áo tập gym yoga nữ siêu xinh ami           0    0.15  190000   \n",
       "3     303589  áo tập gym yoga nữ siêu xinh ami           0    0.15  190000   \n",
       "4     303589  áo tập gym yoga nữ siêu xinh ami           0    0.15  190000   \n",
       "\n",
       "   quantity                                              match  match_no  \\\n",
       "0        24                                  áo cổ v siêu xinh         0   \n",
       "1        24  lẻ 1 áo tập gym/ yoga siêu đẹp, áo bra thun tă...         1   \n",
       "2        24                     áo sơ mi trơn tay ngắn túi nắp         2   \n",
       "3        24    áo sơ mi nữ tay ngắn lụa tằm qccc  cực xinh xắn         3   \n",
       "4        24            áo sơ mi nam kaki phối túi hộp siêu hot         4   \n",
       "\n",
       "       score  match_price  match_weight  weight_diff  price_diff  \n",
       "0  56.000000     175000.0      0.316667     0.166667    -15000.0  \n",
       "1  55.913978      28000.0      0.230000     0.080000   -162000.0  \n",
       "2  53.968254      61550.0      0.300000     0.150000   -128450.0  \n",
       "3  53.164557      84400.0      0.300000     0.150000   -105600.0  \n",
       "4  52.777778     133000.0      0.300000     0.150000    -57000.0  "
      ]
     },
     "execution_count": 359,
     "metadata": {},
     "output_type": "execute_result"
    }
   ],
   "source": [
    "res_final.head()"
   ]
  },
  {
   "cell_type": "markdown",
   "metadata": {},
   "source": [
    "## Aggregate by item and shipper level"
   ]
  },
  {
   "cell_type": "markdown",
   "metadata": {},
   "source": [
    "By Item level: get the first (best) match, the average and the std dev for score, weight_diff and price_diff"
   ]
  },
  {
   "cell_type": "code",
   "execution_count": 301,
   "metadata": {},
   "outputs": [],
   "source": [
    "res_gb_item = res_final.groupby(['legacy_id', 'item_description', 'item_index', 'weight', 'price', 'quantity'])\\\n",
    "                                [['score', 'weight_diff', 'price_diff']].agg(['first','mean','std'])"
   ]
  },
  {
   "cell_type": "code",
   "execution_count": 302,
   "metadata": {
    "scrolled": true
   },
   "outputs": [],
   "source": [
    "res_gb_item = res_gb_item.reset_index().sort_values('item_index')"
   ]
  },
  {
   "cell_type": "markdown",
   "metadata": {},
   "source": [
    "Filter: here I want to keep only results where weight_diff and price_diff does not vary too much (<10kg and <50.000 VND) between the 5 matched items, to mitigate false positive cases"
   ]
  },
  {
   "cell_type": "code",
   "execution_count": 314,
   "metadata": {
    "scrolled": true
   },
   "outputs": [],
   "source": [
    "res_gb_item_filtered = res_gb_item[(res_gb_item[('weight_diff', 'std')]<=10)&(res_gb_item[('price_diff', 'mean')]<=50000)]#.nlargest(20, ('weight_diff', 'mean'))"
   ]
  },
  {
   "cell_type": "markdown",
   "metadata": {},
   "source": [
    "By shipper level: get the average weight_diff and number of items for ranking"
   ]
  },
  {
   "cell_type": "code",
   "execution_count": 337,
   "metadata": {
    "scrolled": true
   },
   "outputs": [
    {
     "name": "stderr",
     "output_type": "stream",
     "text": [
      "C:\\Users\\Home\\anaconda3\\lib\\site-packages\\pandas\\core\\generic.py:4152: PerformanceWarning: dropping on a non-lexsorted multi-index without a level parameter may impact performance.\n",
      "  obj = obj._drop_axis(labels, axis, level=level, errors=errors)\n"
     ]
    }
   ],
   "source": [
    "res_gb_shipper = res_gb_item_filtered.groupby('legacy_id').agg(['mean', 'count']).iloc[:,14:16].reset_index()"
   ]
  },
  {
   "cell_type": "markdown",
   "metadata": {},
   "source": [
    "Filter: here I want to keep only shippers with more than 5 items. Below is the top 30 shippers according to the results"
   ]
  },
  {
   "cell_type": "code",
   "execution_count": 340,
   "metadata": {
    "scrolled": true
   },
   "outputs": [
    {
     "data": {
      "text/html": [
       "<div>\n",
       "<style scoped>\n",
       "    .dataframe tbody tr th:only-of-type {\n",
       "        vertical-align: middle;\n",
       "    }\n",
       "\n",
       "    .dataframe tbody tr th {\n",
       "        vertical-align: top;\n",
       "    }\n",
       "\n",
       "    .dataframe thead tr th {\n",
       "        text-align: left;\n",
       "    }\n",
       "</style>\n",
       "<table border=\"1\" class=\"dataframe\">\n",
       "  <thead>\n",
       "    <tr>\n",
       "      <th></th>\n",
       "      <th>legacy_id</th>\n",
       "      <th colspan=\"2\" halign=\"left\">weight_diff</th>\n",
       "    </tr>\n",
       "    <tr>\n",
       "      <th></th>\n",
       "      <th></th>\n",
       "      <th colspan=\"2\" halign=\"left\">first</th>\n",
       "    </tr>\n",
       "    <tr>\n",
       "      <th></th>\n",
       "      <th></th>\n",
       "      <th>mean</th>\n",
       "      <th>count</th>\n",
       "    </tr>\n",
       "  </thead>\n",
       "  <tbody>\n",
       "    <tr>\n",
       "      <th>144</th>\n",
       "      <td>283677</td>\n",
       "      <td>15.400000</td>\n",
       "      <td>6</td>\n",
       "    </tr>\n",
       "    <tr>\n",
       "      <th>31854</th>\n",
       "      <td>518274</td>\n",
       "      <td>11.852778</td>\n",
       "      <td>6</td>\n",
       "    </tr>\n",
       "    <tr>\n",
       "      <th>10792</th>\n",
       "      <td>342800</td>\n",
       "      <td>11.032143</td>\n",
       "      <td>7</td>\n",
       "    </tr>\n",
       "    <tr>\n",
       "      <th>21041</th>\n",
       "      <td>420518</td>\n",
       "      <td>7.481500</td>\n",
       "      <td>6</td>\n",
       "    </tr>\n",
       "    <tr>\n",
       "      <th>10241</th>\n",
       "      <td>339095</td>\n",
       "      <td>7.433667</td>\n",
       "      <td>15</td>\n",
       "    </tr>\n",
       "    <tr>\n",
       "      <th>15213</th>\n",
       "      <td>374184</td>\n",
       "      <td>7.187917</td>\n",
       "      <td>6</td>\n",
       "    </tr>\n",
       "    <tr>\n",
       "      <th>9371</th>\n",
       "      <td>333459</td>\n",
       "      <td>7.006667</td>\n",
       "      <td>6</td>\n",
       "    </tr>\n",
       "    <tr>\n",
       "      <th>7111</th>\n",
       "      <td>319293</td>\n",
       "      <td>6.876563</td>\n",
       "      <td>8</td>\n",
       "    </tr>\n",
       "    <tr>\n",
       "      <th>9123</th>\n",
       "      <td>331768</td>\n",
       "      <td>6.498333</td>\n",
       "      <td>7</td>\n",
       "    </tr>\n",
       "    <tr>\n",
       "      <th>7139</th>\n",
       "      <td>319513</td>\n",
       "      <td>6.445431</td>\n",
       "      <td>6</td>\n",
       "    </tr>\n",
       "    <tr>\n",
       "      <th>18904</th>\n",
       "      <td>403826</td>\n",
       "      <td>6.294833</td>\n",
       "      <td>6</td>\n",
       "    </tr>\n",
       "    <tr>\n",
       "      <th>16657</th>\n",
       "      <td>385012</td>\n",
       "      <td>5.703333</td>\n",
       "      <td>6</td>\n",
       "    </tr>\n",
       "    <tr>\n",
       "      <th>11798</th>\n",
       "      <td>350855</td>\n",
       "      <td>5.546148</td>\n",
       "      <td>9</td>\n",
       "    </tr>\n",
       "    <tr>\n",
       "      <th>20719</th>\n",
       "      <td>418181</td>\n",
       "      <td>5.339259</td>\n",
       "      <td>9</td>\n",
       "    </tr>\n",
       "    <tr>\n",
       "      <th>28109</th>\n",
       "      <td>478869</td>\n",
       "      <td>5.132870</td>\n",
       "      <td>9</td>\n",
       "    </tr>\n",
       "    <tr>\n",
       "      <th>29131</th>\n",
       "      <td>488915</td>\n",
       "      <td>5.108661</td>\n",
       "      <td>14</td>\n",
       "    </tr>\n",
       "    <tr>\n",
       "      <th>4028</th>\n",
       "      <td>302160</td>\n",
       "      <td>5.064643</td>\n",
       "      <td>6</td>\n",
       "    </tr>\n",
       "    <tr>\n",
       "      <th>13962</th>\n",
       "      <td>365220</td>\n",
       "      <td>4.879933</td>\n",
       "      <td>15</td>\n",
       "    </tr>\n",
       "    <tr>\n",
       "      <th>19944</th>\n",
       "      <td>411903</td>\n",
       "      <td>4.843750</td>\n",
       "      <td>6</td>\n",
       "    </tr>\n",
       "    <tr>\n",
       "      <th>34384</th>\n",
       "      <td>536661</td>\n",
       "      <td>4.733333</td>\n",
       "      <td>6</td>\n",
       "    </tr>\n",
       "    <tr>\n",
       "      <th>24879</th>\n",
       "      <td>452064</td>\n",
       "      <td>4.667429</td>\n",
       "      <td>7</td>\n",
       "    </tr>\n",
       "    <tr>\n",
       "      <th>14684</th>\n",
       "      <td>370231</td>\n",
       "      <td>4.562561</td>\n",
       "      <td>19</td>\n",
       "    </tr>\n",
       "    <tr>\n",
       "      <th>9396</th>\n",
       "      <td>333617</td>\n",
       "      <td>4.546583</td>\n",
       "      <td>6</td>\n",
       "    </tr>\n",
       "    <tr>\n",
       "      <th>41137</th>\n",
       "      <td>558130</td>\n",
       "      <td>4.520833</td>\n",
       "      <td>6</td>\n",
       "    </tr>\n",
       "    <tr>\n",
       "      <th>2981</th>\n",
       "      <td>297778</td>\n",
       "      <td>4.480235</td>\n",
       "      <td>34</td>\n",
       "    </tr>\n",
       "    <tr>\n",
       "      <th>18138</th>\n",
       "      <td>397605</td>\n",
       "      <td>4.471953</td>\n",
       "      <td>16</td>\n",
       "    </tr>\n",
       "    <tr>\n",
       "      <th>6172</th>\n",
       "      <td>313719</td>\n",
       "      <td>4.463125</td>\n",
       "      <td>16</td>\n",
       "    </tr>\n",
       "    <tr>\n",
       "      <th>7932</th>\n",
       "      <td>324923</td>\n",
       "      <td>4.458865</td>\n",
       "      <td>12</td>\n",
       "    </tr>\n",
       "    <tr>\n",
       "      <th>27874</th>\n",
       "      <td>476799</td>\n",
       "      <td>4.453037</td>\n",
       "      <td>9</td>\n",
       "    </tr>\n",
       "    <tr>\n",
       "      <th>9403</th>\n",
       "      <td>333643</td>\n",
       "      <td>4.445000</td>\n",
       "      <td>6</td>\n",
       "    </tr>\n",
       "  </tbody>\n",
       "</table>\n",
       "</div>"
      ],
      "text/plain": [
       "      legacy_id weight_diff      \n",
       "                      first      \n",
       "                       mean count\n",
       "144      283677   15.400000     6\n",
       "31854    518274   11.852778     6\n",
       "10792    342800   11.032143     7\n",
       "21041    420518    7.481500     6\n",
       "10241    339095    7.433667    15\n",
       "15213    374184    7.187917     6\n",
       "9371     333459    7.006667     6\n",
       "7111     319293    6.876563     8\n",
       "9123     331768    6.498333     7\n",
       "7139     319513    6.445431     6\n",
       "18904    403826    6.294833     6\n",
       "16657    385012    5.703333     6\n",
       "11798    350855    5.546148     9\n",
       "20719    418181    5.339259     9\n",
       "28109    478869    5.132870     9\n",
       "29131    488915    5.108661    14\n",
       "4028     302160    5.064643     6\n",
       "13962    365220    4.879933    15\n",
       "19944    411903    4.843750     6\n",
       "34384    536661    4.733333     6\n",
       "24879    452064    4.667429     7\n",
       "14684    370231    4.562561    19\n",
       "9396     333617    4.546583     6\n",
       "41137    558130    4.520833     6\n",
       "2981     297778    4.480235    34\n",
       "18138    397605    4.471953    16\n",
       "6172     313719    4.463125    16\n",
       "7932     324923    4.458865    12\n",
       "27874    476799    4.453037     9\n",
       "9403     333643    4.445000     6"
      ]
     },
     "execution_count": 340,
     "metadata": {},
     "output_type": "execute_result"
    }
   ],
   "source": [
    "res_gb_shipper[res_gb_shipper[('weight_diff', 'first', 'count')]>5].nlargest(30, ('weight_diff', 'first', 'mean'))"
   ]
  },
  {
   "cell_type": "markdown",
   "metadata": {},
   "source": [
    "Here you can paste the shipper legacy_id and see their selling items"
   ]
  },
  {
   "cell_type": "code",
   "execution_count": 349,
   "metadata": {
    "scrolled": true
   },
   "outputs": [
    {
     "data": {
      "text/html": [
       "<div>\n",
       "<style scoped>\n",
       "    .dataframe tbody tr th:only-of-type {\n",
       "        vertical-align: middle;\n",
       "    }\n",
       "\n",
       "    .dataframe tbody tr th {\n",
       "        vertical-align: top;\n",
       "    }\n",
       "\n",
       "    .dataframe thead tr th {\n",
       "        text-align: left;\n",
       "    }\n",
       "</style>\n",
       "<table border=\"1\" class=\"dataframe\">\n",
       "  <thead>\n",
       "    <tr>\n",
       "      <th></th>\n",
       "      <th>legacy_id</th>\n",
       "      <th>item_description</th>\n",
       "      <th>item_index</th>\n",
       "      <th>weight</th>\n",
       "      <th>price</th>\n",
       "      <th>quantity</th>\n",
       "      <th colspan=\"3\" halign=\"left\">score</th>\n",
       "      <th colspan=\"3\" halign=\"left\">weight_diff</th>\n",
       "      <th colspan=\"3\" halign=\"left\">price_diff</th>\n",
       "    </tr>\n",
       "    <tr>\n",
       "      <th></th>\n",
       "      <th></th>\n",
       "      <th></th>\n",
       "      <th></th>\n",
       "      <th></th>\n",
       "      <th></th>\n",
       "      <th></th>\n",
       "      <th>first</th>\n",
       "      <th>mean</th>\n",
       "      <th>std</th>\n",
       "      <th>first</th>\n",
       "      <th>mean</th>\n",
       "      <th>std</th>\n",
       "      <th>first</th>\n",
       "      <th>mean</th>\n",
       "      <th>std</th>\n",
       "    </tr>\n",
       "  </thead>\n",
       "  <tbody>\n",
       "    <tr>\n",
       "      <th>197525</th>\n",
       "      <td>333459</td>\n",
       "      <td>vali kéo du lịch size 20,size 24 khung nhôm kh...</td>\n",
       "      <td>28015</td>\n",
       "      <td>5.00</td>\n",
       "      <td>1250000</td>\n",
       "      <td>26</td>\n",
       "      <td>55.670103</td>\n",
       "      <td>51.416854</td>\n",
       "      <td>2.443566</td>\n",
       "      <td>10.00</td>\n",
       "      <td>-0.333400</td>\n",
       "      <td>6.076224</td>\n",
       "      <td>-851000.0</td>\n",
       "      <td>-9.820000e+05</td>\n",
       "      <td>204281.668292</td>\n",
       "    </tr>\n",
       "    <tr>\n",
       "      <th>197523</th>\n",
       "      <td>333459</td>\n",
       "      <td>vali kéo du lịch khung nhôm thời trang chống b...</td>\n",
       "      <td>77900</td>\n",
       "      <td>4.00</td>\n",
       "      <td>1249000</td>\n",
       "      <td>1</td>\n",
       "      <td>64.864865</td>\n",
       "      <td>56.090819</td>\n",
       "      <td>4.940671</td>\n",
       "      <td>11.00</td>\n",
       "      <td>3.078667</td>\n",
       "      <td>7.473176</td>\n",
       "      <td>-850000.0</td>\n",
       "      <td>-9.051880e+05</td>\n",
       "      <td>257327.955574</td>\n",
       "    </tr>\n",
       "    <tr>\n",
       "      <th>197522</th>\n",
       "      <td>333459</td>\n",
       "      <td>vali kéo du lịch khung nhôm khoá sập,vali khóa...</td>\n",
       "      <td>149139</td>\n",
       "      <td>4.00</td>\n",
       "      <td>499000</td>\n",
       "      <td>3</td>\n",
       "      <td>58.333333</td>\n",
       "      <td>53.926788</td>\n",
       "      <td>3.681757</td>\n",
       "      <td>1.00</td>\n",
       "      <td>3.242000</td>\n",
       "      <td>7.288712</td>\n",
       "      <td>0.0</td>\n",
       "      <td>-1.546000e+05</td>\n",
       "      <td>256614.107173</td>\n",
       "    </tr>\n",
       "    <tr>\n",
       "      <th>197521</th>\n",
       "      <td>333459</td>\n",
       "      <td>vali du lịch khung nhôm, vali kéo size 20, siz...</td>\n",
       "      <td>196131</td>\n",
       "      <td>6.00</td>\n",
       "      <td>1550000</td>\n",
       "      <td>1</td>\n",
       "      <td>56.994819</td>\n",
       "      <td>53.341439</td>\n",
       "      <td>2.111790</td>\n",
       "      <td>9.00</td>\n",
       "      <td>-1.292765</td>\n",
       "      <td>6.286302</td>\n",
       "      <td>-1151000.0</td>\n",
       "      <td>-1.151454e+06</td>\n",
       "      <td>167972.041063</td>\n",
       "    </tr>\n",
       "    <tr>\n",
       "      <th>197526</th>\n",
       "      <td>333459</td>\n",
       "      <td>áo bọc vali silicon trong suốt, áo trùm vali c...</td>\n",
       "      <td>402538</td>\n",
       "      <td>0.01</td>\n",
       "      <td>119000</td>\n",
       "      <td>11</td>\n",
       "      <td>51.785714</td>\n",
       "      <td>49.919767</td>\n",
       "      <td>1.400075</td>\n",
       "      <td>0.04</td>\n",
       "      <td>0.095000</td>\n",
       "      <td>0.059582</td>\n",
       "      <td>-74000.0</td>\n",
       "      <td>-5.857562e+04</td>\n",
       "      <td>37484.907276</td>\n",
       "    </tr>\n",
       "    <tr>\n",
       "      <th>197524</th>\n",
       "      <td>333459</td>\n",
       "      <td>vali kéo du lịch khung nhôm, vali khóa kéo chố...</td>\n",
       "      <td>482571</td>\n",
       "      <td>4.00</td>\n",
       "      <td>549000</td>\n",
       "      <td>1</td>\n",
       "      <td>57.777778</td>\n",
       "      <td>53.410814</td>\n",
       "      <td>2.526639</td>\n",
       "      <td>11.00</td>\n",
       "      <td>3.140400</td>\n",
       "      <td>7.403273</td>\n",
       "      <td>-150000.0</td>\n",
       "      <td>-2.228000e+05</td>\n",
       "      <td>280491.220896</td>\n",
       "    </tr>\n",
       "  </tbody>\n",
       "</table>\n",
       "</div>"
      ],
      "text/plain": [
       "       legacy_id                                   item_description  \\\n",
       "                                                                      \n",
       "197525    333459  vali kéo du lịch size 20,size 24 khung nhôm kh...   \n",
       "197523    333459  vali kéo du lịch khung nhôm thời trang chống b...   \n",
       "197522    333459  vali kéo du lịch khung nhôm khoá sập,vali khóa...   \n",
       "197521    333459  vali du lịch khung nhôm, vali kéo size 20, siz...   \n",
       "197526    333459  áo bọc vali silicon trong suốt, áo trùm vali c...   \n",
       "197524    333459  vali kéo du lịch khung nhôm, vali khóa kéo chố...   \n",
       "\n",
       "       item_index weight    price quantity      score                       \\\n",
       "                                                first       mean       std   \n",
       "197525      28015   5.00  1250000       26  55.670103  51.416854  2.443566   \n",
       "197523      77900   4.00  1249000        1  64.864865  56.090819  4.940671   \n",
       "197522     149139   4.00   499000        3  58.333333  53.926788  3.681757   \n",
       "197521     196131   6.00  1550000        1  56.994819  53.341439  2.111790   \n",
       "197526     402538   0.01   119000       11  51.785714  49.919767  1.400075   \n",
       "197524     482571   4.00   549000        1  57.777778  53.410814  2.526639   \n",
       "\n",
       "       weight_diff                     price_diff                               \n",
       "             first      mean       std      first          mean            std  \n",
       "197525       10.00 -0.333400  6.076224  -851000.0 -9.820000e+05  204281.668292  \n",
       "197523       11.00  3.078667  7.473176  -850000.0 -9.051880e+05  257327.955574  \n",
       "197522        1.00  3.242000  7.288712        0.0 -1.546000e+05  256614.107173  \n",
       "197521        9.00 -1.292765  6.286302 -1151000.0 -1.151454e+06  167972.041063  \n",
       "197526        0.04  0.095000  0.059582   -74000.0 -5.857562e+04   37484.907276  \n",
       "197524       11.00  3.140400  7.403273  -150000.0 -2.228000e+05  280491.220896  "
      ]
     },
     "execution_count": 349,
     "metadata": {},
     "output_type": "execute_result"
    }
   ],
   "source": [
    "res_gb_item[res_gb_item.legacy_id==333459]"
   ]
  },
  {
   "cell_type": "code",
   "execution_count": 361,
   "metadata": {},
   "outputs": [],
   "source": [
    "#res_gb_shipper.to_csv(\"shipper_list_levenshtein.csv\", index=False)"
   ]
  },
  {
   "cell_type": "markdown",
   "metadata": {},
   "source": [
    "### Examples"
   ]
  },
  {
   "cell_type": "markdown",
   "metadata": {},
   "source": [
    "This section shows some examples for the algo"
   ]
  },
  {
   "cell_type": "code",
   "execution_count": 86,
   "metadata": {},
   "outputs": [],
   "source": [
    "x = ['Máy Hút MụnMáy Hút Mụn Đầu Đenmàn hình led, máy hút mụn sạc pin 5 đầu hút SIÊU MẠNH']"
   ]
  },
  {
   "cell_type": "markdown",
   "metadata": {},
   "source": [
    "Here is the 5 matched items using library with only heavy items"
   ]
  },
  {
   "cell_type": "code",
   "execution_count": 38,
   "metadata": {},
   "outputs": [],
   "source": [
    "r = fuzzy(laz_items, x)"
   ]
  },
  {
   "cell_type": "code",
   "execution_count": 39,
   "metadata": {},
   "outputs": [
    {
     "data": {
      "text/plain": [
       "([['máy cắt sắt, máy cắt super - 8070 , máy cắt để bàn siêu bền, siêu tiện ích',\n",
       "   'máy hút bụi gia đình có dây cực mạnh,máy hút bụi và hổi bụi gia đình supor',\n",
       "   'máy hút mùi nhà bếp sunhouse shb6118b - máy hút khói được bảo hành 18 tháng tại nhà',\n",
       "   'máy fr900- máy hàn miệng túi tự động có in hạn sử dụng - máy hàn máy in 2 trong 1',\n",
       "   'máy chiết rót nén khí a02- máy chiết rót mỹ phẩm vòi inox siêu xịn']],\n",
       " [[48.40764331210191,\n",
       "   48.40764331210191,\n",
       "   48.19277108433735,\n",
       "   47.5609756097561,\n",
       "   46.97986577181208]])"
      ]
     },
     "execution_count": 39,
     "metadata": {},
     "output_type": "execute_result"
    }
   ],
   "source": [
    "r"
   ]
  },
  {
   "cell_type": "markdown",
   "metadata": {},
   "source": [
    "Here is the 5 matched items using FULL library (very big, close to 200k items). We can see the accuracy is much better"
   ]
  },
  {
   "cell_type": "code",
   "execution_count": 59,
   "metadata": {},
   "outputs": [],
   "source": [
    "r = fuzzy(laz_items, x)"
   ]
  },
  {
   "cell_type": "code",
   "execution_count": 60,
   "metadata": {},
   "outputs": [
    {
     "data": {
      "text/plain": [
       "([['máy hút mụn, máy hút mụn đầu đen, máy hút mụn cầm tay đa năng hàn quốc, máy hút mụn dùng pin sạc an toàn tiện dụng tặng kèm 4 đầu hút thông minh',\n",
       "   'máy hút mụn cám, mụn đầu đen, mụn trứng cá - máy hút mụn cầm tay mini cao cấp 4 in 1 sử dụng cho mọi loại da',\n",
       "   ' máy hút mụn đầu đen 5 lực hút - máy sạc pin hút mụn cải thiện làn da - đánh bay mụn',\n",
       "   'máy hút mụn spa, hút mụn, máy rửa mặt - máy hút mụn trứng cá giá tốt',\n",
       "   'máy hút mụn đầu đen, mụn cám, chăm sóc da mặt cao cấp với ba đầu hút']],\n",
       " [[61.67400881057269,\n",
       "   59.68586387434555,\n",
       "   57.83132530120482,\n",
       "   56.95364238410596,\n",
       "   55.629139072847686]])"
      ]
     },
     "execution_count": 60,
     "metadata": {},
     "output_type": "execute_result"
    }
   ],
   "source": [
    "r"
   ]
  },
  {
   "cell_type": "code",
   "execution_count": null,
   "metadata": {},
   "outputs": [],
   "source": []
  }
 ],
 "metadata": {
  "kernelspec": {
   "display_name": "Python 3",
   "language": "python",
   "name": "python3"
  },
  "language_info": {
   "codemirror_mode": {
    "name": "ipython",
    "version": 3
   },
   "file_extension": ".py",
   "mimetype": "text/x-python",
   "name": "python",
   "nbconvert_exporter": "python",
   "pygments_lexer": "ipython3",
   "version": "3.8.3"
  }
 },
 "nbformat": 4,
 "nbformat_minor": 4
}
